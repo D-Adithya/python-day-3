{
 "cells": [
  {
   "cell_type": "code",
   "execution_count": 4,
   "id": "5eadd76d",
   "metadata": {},
   "outputs": [
    {
     "name": "stdout",
     "output_type": "stream",
     "text": [
      "enter the student scores in order:92 97 67 57 32 \n",
      "\n",
      "\n",
      "['92', '97', '67', '57', '32']\n",
      "\n",
      "\n",
      "the highest score in the class is: 97\n"
     ]
    }
   ],
   "source": [
    "student_scores=input(\"enter the student scores in order:\")##like 92 97 67 57 32 \n",
    "print(\"\\n\")\n",
    "\n",
    "student_scores=student_scores.split()\n",
    "\n",
    "\n",
    "print(student_scores)\n",
    "print(\"\\n\")\n",
    "maxi=0\n",
    "for i in student_scores:\n",
    "    if int(i)>int(maxi):#here the 1st value will be allocated to maxi function and if the next value is greater than maxi value ,maxi value gets updated else it reamins the same \n",
    "        maxi=i\n",
    "    else:\n",
    "        pass\n",
    "print(\"the highest score in the class is:\",maxi)"
   ]
  },
  {
   "cell_type": "code",
   "execution_count": null,
   "id": "b2c22e5f",
   "metadata": {},
   "outputs": [],
   "source": []
  }
 ],
 "metadata": {
  "kernelspec": {
   "display_name": "Python 3 (ipykernel)",
   "language": "python",
   "name": "python3"
  },
  "language_info": {
   "codemirror_mode": {
    "name": "ipython",
    "version": 3
   },
   "file_extension": ".py",
   "mimetype": "text/x-python",
   "name": "python",
   "nbconvert_exporter": "python",
   "pygments_lexer": "ipython3",
   "version": "3.10.9"
  }
 },
 "nbformat": 4,
 "nbformat_minor": 5
}
