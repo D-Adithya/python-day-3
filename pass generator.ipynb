{
 "cells": [
  {
   "cell_type": "code",
   "execution_count": 11,
   "id": "f7a77e7e",
   "metadata": {},
   "outputs": [
    {
     "name": "stdout",
     "output_type": "stream",
     "text": [
      "Welcome to the PyPassword Generator!\n",
      "How many letters would you like in your password?\n",
      "4\n",
      "How many symbols would you like?\n",
      "2\n",
      "How many numbers would you like?\n",
      "2\n",
      "your password is:mdni%)03"
     ]
    }
   ],
   "source": [
    "#Password Generator Project #method1\n",
    "import random\n",
    "letters = ['a', 'b', 'c', 'd', 'e', 'f', 'g', 'h', 'i', 'j', 'k', 'l', 'm', 'n', 'o', 'p', 'q', 'r', 's', 't', 'u', 'v', 'w', 'x', 'y', 'z', 'A', 'B', 'C', 'D', 'E', 'F', 'G', 'H', 'I', 'J', 'K', 'L', 'M', 'N', 'O', 'P', 'Q', 'R', 'S', 'T', 'U', 'V', 'W', 'X', 'Y', 'Z']\n",
    "numbers = ['0', '1', '2', '3', '4', '5', '6', '7', '8', '9']\n",
    "symbols = ['!', '#', '$', '%', '&', '(', ')', '*', '+']\n",
    "\n",
    "print(\"Welcome to the PyPassword Generator!\")\n",
    "nr_letters= int(input(\"How many letters would you like in your password?\\n\")) \n",
    "nr_symbols = int(input(f\"How many symbols would you like?\\n\"))\n",
    "nr_numbers = int(input(f\"How many numbers would you like?\\n\"))\n",
    "\n",
    "len_letters=len(letters)\n",
    "len_numbers=len(numbers)\n",
    "len_symbols=len(symbols)\n",
    "\n",
    "print(\"your password is: \",end=\"\")\n",
    "\n",
    "for i  in range(0,nr_letters):\n",
    "    b1=random.randint(0,len_letters)\n",
    "    print(letters[b1],end=\"\")\n",
    "  \n",
    "    \n",
    "for i  in range(0,nr_symbols):\n",
    "    b2=random.randint(0,len_symbols)\n",
    "    print(symbols[b2],end=\"\")\n",
    "\n",
    "\n",
    "for i  in range(0,nr_numbers):\n",
    "    b3=random.randint(0,len_numbers)\n",
    "    print(numbers[b3],end=\"\")\n",
    "\n",
    "    \n",
    "    \n"
   ]
  },
  {
   "cell_type": "code",
   "execution_count": 46,
   "id": "bb78ee3c",
   "metadata": {},
   "outputs": [
    {
     "name": "stdout",
     "output_type": "stream",
     "text": [
      "Welcome to the PyPassword Generator!\n",
      "How many letters would you like in your password?\n",
      "3\n",
      "How many symbols would you like?\n",
      "3\n",
      "How many numbers would you like?\n",
      "3\n",
      "your password is: ['s', '9', 'D', 'r', '$', '3', '(', '5', '(']\n"
     ]
    }
   ],
   "source": [
    "#method 2\n",
    "import random\n",
    "letters = ['a', 'b', 'c', 'd', 'e', 'f', 'g', 'h', 'i', 'j', 'k', 'l', 'm', 'n', 'o', 'p', 'q', 'r', 's', 't', 'u', 'v', 'w', 'x', 'y', 'z', 'A', 'B', 'C', 'D', 'E', 'F', 'G', 'H', 'I', 'J', 'K', 'L', 'M', 'N', 'O', 'P', 'Q', 'R', 'S', 'T', 'U', 'V', 'W', 'X', 'Y', 'Z']\n",
    "numbers = ['0', '1', '2', '3', '4', '5', '6', '7', '8', '9']\n",
    "symbols = ['!', '#', '$', '%', '&', '(', ')', '*', '+']\n",
    "\n",
    "print(\"Welcome to the PyPassword Generator!\")\n",
    "nr_letters= int(input(\"How many letters would you like in your password?\\n\")) \n",
    "nr_symbols = int(input(f\"How many symbols would you like?\\n\"))\n",
    "nr_numbers = int(input(f\"How many numbers would you like?\\n\"))\n",
    "\n",
    "len_letters=len(letters)\n",
    "len_numbers=len(numbers)\n",
    "len_symbols=len(symbols)\n",
    "\n",
    "password=[]\n",
    "\n",
    "\n",
    "\n",
    "for i  in range(0,nr_letters):\n",
    "    password.append(random.choice(letters))\n",
    "    \n",
    "for i  in range(0,nr_symbols):\n",
    "    password.append(random.choice(symbols))\n",
    "\n",
    "for i  in range(0,nr_numbers):\n",
    "    password.append(random.choice(numbers))\n",
    "print(\"your password is: \",end=\"\")\n",
    "random.shuffle(password)#for shuffling the order of password\n",
    "print(password)\n",
    "\n",
    "\n",
    "\n",
    "\n",
    "\n",
    "\n",
    "\n",
    "    \n",
    "    \n"
   ]
  }
 ],
 "metadata": {
  "kernelspec": {
   "display_name": "Python 3 (ipykernel)",
   "language": "python",
   "name": "python3"
  },
  "language_info": {
   "codemirror_mode": {
    "name": "ipython",
    "version": 3
   },
   "file_extension": ".py",
   "mimetype": "text/x-python",
   "name": "python",
   "nbconvert_exporter": "python",
   "pygments_lexer": "ipython3",
   "version": "3.10.9"
  }
 },
 "nbformat": 4,
 "nbformat_minor": 5
}
