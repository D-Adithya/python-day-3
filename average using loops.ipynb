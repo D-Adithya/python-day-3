{
 "cells": [
  {
   "cell_type": "code",
   "execution_count": 8,
   "id": "a839bb67",
   "metadata": {},
   "outputs": [
    {
     "name": "stdout",
     "output_type": "stream",
     "text": [
      "enter the student's height in order:172 178 192 198 165\n",
      "\n",
      "\n",
      "['172', '178', '192', '198', '165']\n",
      "\n",
      "\n",
      "181  is average of the height of the student in classroom!\n"
     ]
    }
   ],
   "source": [
    "student_height=input(\"enter the student's height in order seperated by space :\")##challenge here is not using inbulit len(),sum() function\n",
    "student_height=student_height.split()\n",
    "print(\"\\n\")\n",
    "print(student_height)\n",
    "sum=0\n",
    "length=0\n",
    "for i in student_height:\n",
    "    sum=sum+int(i)\n",
    "    length=length +1\n",
    "print(\"\\n\")\n",
    "average=round(sum/length)\n",
    "print(average,\" is average of the height of the student in classroom!\") "
   ]
  },
  {
   "cell_type": "code",
   "execution_count": null,
   "id": "8baf73f7",
   "metadata": {},
   "outputs": [],
   "source": []
  }
 ],
 "metadata": {
  "kernelspec": {
   "display_name": "Python 3 (ipykernel)",
   "language": "python",
   "name": "python3"
  },
  "language_info": {
   "codemirror_mode": {
    "name": "ipython",
    "version": 3
   },
   "file_extension": ".py",
   "mimetype": "text/x-python",
   "name": "python",
   "nbconvert_exporter": "python",
   "pygments_lexer": "ipython3",
   "version": "3.10.9"
  }
 },
 "nbformat": 4,
 "nbformat_minor": 5
}
